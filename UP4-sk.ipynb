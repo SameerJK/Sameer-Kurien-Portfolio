{
 "cells": [
  {
   "cell_type": "markdown",
   "metadata": {},
   "source": [
    "# DS-NYC-45 | Unit Project 4: Notebook with Executive Summary\n",
    "\n",
    "In this project, you will summarize and present your analysis from Unit Projects 1-3."
   ]
  },
  {
   "cell_type": "markdown",
   "metadata": {},
   "source": [
    "> ## Question 1.  Introduction\n",
    "> Write a problem statement for this project."
   ]
  },
  {
   "cell_type": "markdown",
   "metadata": {},
   "source": [
    "Answer:\n",
    "Admissions into UCLA are influenced by a number of factors, including a student's GPA and GRE scores. However, a student's prestige may also significantly influence the results of their application. By analyzing a crosssection of admission data we hope to be able to refute or confirm the existence of such a correlation between admission and prestige."
   ]
  },
  {
   "cell_type": "markdown",
   "metadata": {},
   "source": [
    "> ## Question 2.  Dataset\n",
    "> Write up a description of your data and any cleaning that was completed."
   ]
  },
  {
   "cell_type": "markdown",
   "metadata": {},
   "source": [
    "Answer:\n",
    "The dataset consisted of 400 prospective UCLA students, covering their admission status, GRE scores, GPA, and the prestige of their previous school (1-4). GPA and GRE had two inadmissable values, while prestige had one, all of which were replaced with by 0 through .fillna(). "
   ]
  },
  {
   "cell_type": "markdown",
   "metadata": {
    "collapsed": true
   },
   "source": [
    "> ## Question 3.  Demo\n",
    "> Provide a table that explains the data by admission status."
   ]
  },
  {
   "cell_type": "code",
   "execution_count": 1,
   "metadata": {
    "collapsed": true
   },
   "outputs": [],
   "source": [
    "import os\n",
    "\n",
    "import numpy as np\n",
    "import pandas as pd\n",
    "pd.set_option('display.max_rows', 10)\n",
    "pd.set_option('display.max_columns', 10)\n",
    "pd.set_option('display.notebook_repr_html', True)\n",
    "\n",
    "import statsmodels.formula.api as smf\n",
    "\n",
    "from sklearn import linear_model\n",
    "\n"
   ]
  },
  {
   "cell_type": "code",
   "execution_count": 2,
   "metadata": {
    "collapsed": true
   },
   "outputs": [],
   "source": [
    "df = pd.read_csv(os.path.join('..', '..', 'dataset', 'ucla-admissions.csv'))\n",
    "df.dropna(inplace = True)"
   ]
  },
  {
   "cell_type": "code",
   "execution_count": 6,
   "metadata": {
    "collapsed": false
   },
   "outputs": [
    {
     "data": {
      "text/plain": [
       "admit\n",
       "0    271\n",
       "1    126\n",
       "dtype: int64"
      ]
     },
     "execution_count": 6,
     "metadata": {},
     "output_type": "execute_result"
    }
   ],
   "source": [
    "df.groupby(['admit']).size()"
   ]
  },
  {
   "cell_type": "markdown",
   "metadata": {},
   "source": [
    "Answer:\n",
    "Data by Admission status."
   ]
  },
  {
   "cell_type": "markdown",
   "metadata": {},
   "source": [
    "> ## Question 4. Methods\n",
    "> Write up the methods used in your analysis."
   ]
  },
  {
   "cell_type": "markdown",
   "metadata": {},
   "source": [
    "Answer:\n",
    "After cleaning the dataset, each variable was plotted to observe its distribution. Then all 3 factors were placed alongside admission into a correlation matrix to determine which relationships were most likely to be colinear. \n",
    "Admission for each prestige level was then plotted onto a frequency table, and the prestige variable was one-hot encoded and then dropped from the data. Odds ratios were then calculated before the data was analyzed through a logistic regression model in both statsmodels and sklearn.\n"
   ]
  },
  {
   "cell_type": "markdown",
   "metadata": {},
   "source": [
    "> ## Question 5. Results\n",
    "> Write up your results."
   ]
  },
  {
   "cell_type": "markdown",
   "metadata": {},
   "source": [
    "Answer:\n",
    "The correlation matrix suggested that there was no significant relationship between admission and prestige. \n",
    "The odds ratio of admitted graduate applicants from the most prestigious undergraduate schools to others is 3.08, while for less prestigious (2-4) schools the ratio is 0.32.\n",
    "From the logistic regression model in statsmodel the calculations used found that the probability for a student with 800 on the GRE and a 4.0 GPA is 0.0042 from a tier 1 school, 0.0021 from a tier 2 school, 0.0011 from a tier 3 school, and 0.00089 from a tier four school. The model used gave us odds ratios of admission using the tier-2 prestigious schools and GPA were 0.02 and 2.18, respectively. This suggest that the latter is a far more powerful factor in determining admission.  "
   ]
  },
  {
   "cell_type": "markdown",
   "metadata": {},
   "source": [
    "> ## Question 6. Visuals\n",
    "> Provide a table or visualization of these results."
   ]
  },
  {
   "cell_type": "code",
   "execution_count": 7,
   "metadata": {
    "collapsed": false
   },
   "outputs": [
    {
     "data": {
      "text/html": [
       "<div>\n",
       "<table border=\"1\" class=\"dataframe\">\n",
       "  <thead>\n",
       "    <tr style=\"text-align: right;\">\n",
       "      <th></th>\n",
       "      <th>admit</th>\n",
       "      <th>gre</th>\n",
       "      <th>gpa</th>\n",
       "      <th>1.0</th>\n",
       "      <th>2.0</th>\n",
       "      <th>3.0</th>\n",
       "      <th>4.0</th>\n",
       "    </tr>\n",
       "  </thead>\n",
       "  <tbody>\n",
       "    <tr>\n",
       "      <th>0</th>\n",
       "      <td>0</td>\n",
       "      <td>380.0</td>\n",
       "      <td>3.61</td>\n",
       "      <td>0.0</td>\n",
       "      <td>0.0</td>\n",
       "      <td>1.0</td>\n",
       "      <td>0.0</td>\n",
       "    </tr>\n",
       "    <tr>\n",
       "      <th>1</th>\n",
       "      <td>1</td>\n",
       "      <td>660.0</td>\n",
       "      <td>3.67</td>\n",
       "      <td>0.0</td>\n",
       "      <td>0.0</td>\n",
       "      <td>1.0</td>\n",
       "      <td>0.0</td>\n",
       "    </tr>\n",
       "    <tr>\n",
       "      <th>2</th>\n",
       "      <td>1</td>\n",
       "      <td>800.0</td>\n",
       "      <td>4.00</td>\n",
       "      <td>1.0</td>\n",
       "      <td>0.0</td>\n",
       "      <td>0.0</td>\n",
       "      <td>0.0</td>\n",
       "    </tr>\n",
       "    <tr>\n",
       "      <th>3</th>\n",
       "      <td>1</td>\n",
       "      <td>640.0</td>\n",
       "      <td>3.19</td>\n",
       "      <td>0.0</td>\n",
       "      <td>0.0</td>\n",
       "      <td>0.0</td>\n",
       "      <td>1.0</td>\n",
       "    </tr>\n",
       "    <tr>\n",
       "      <th>4</th>\n",
       "      <td>0</td>\n",
       "      <td>520.0</td>\n",
       "      <td>2.93</td>\n",
       "      <td>0.0</td>\n",
       "      <td>0.0</td>\n",
       "      <td>0.0</td>\n",
       "      <td>1.0</td>\n",
       "    </tr>\n",
       "  </tbody>\n",
       "</table>\n",
       "</div>"
      ],
      "text/plain": [
       "   admit    gre   gpa  1.0  2.0  3.0  4.0\n",
       "0      0  380.0  3.61  0.0  0.0  1.0  0.0\n",
       "1      1  660.0  3.67  0.0  0.0  1.0  0.0\n",
       "2      1  800.0  4.00  1.0  0.0  0.0  0.0\n",
       "3      1  640.0  3.19  0.0  0.0  0.0  1.0\n",
       "4      0  520.0  2.93  0.0  0.0  0.0  1.0"
      ]
     },
     "execution_count": 7,
     "metadata": {},
     "output_type": "execute_result"
    }
   ],
   "source": [
    "df = df.join(pd.get_dummies(df['prestige']))\n",
    "del df['prestige']\n",
    "df.head()"
   ]
  },
  {
   "cell_type": "code",
   "execution_count": 8,
   "metadata": {
    "collapsed": true
   },
   "outputs": [],
   "source": [
    "\n",
    "feature_cols = ['gre', 'gpa', 1.0, 2.0, 3.0, 4.0]\n",
    "X= df[feature_cols]\n",
    "y = df['admit']\n"
   ]
  },
  {
   "cell_type": "code",
   "execution_count": 9,
   "metadata": {
    "collapsed": false
   },
   "outputs": [
    {
     "name": "stdout",
     "output_type": "stream",
     "text": [
      "Optimization terminated successfully.\n",
      "         Current function value: 0.573854\n",
      "         Iterations 6\n"
     ]
    }
   ],
   "source": [
    "\n",
    "logreg = smf.Logit(y, X)\n",
    "results = logreg.fit()\n",
    "\n"
   ]
  },
  {
   "cell_type": "markdown",
   "metadata": {},
   "source": [
    "Answer:"
   ]
  },
  {
   "cell_type": "code",
   "execution_count": 10,
   "metadata": {
    "collapsed": false
   },
   "outputs": [
    {
     "name": "stdout",
     "output_type": "stream",
     "text": [
      "                           Logit Regression Results                           \n",
      "==============================================================================\n",
      "Dep. Variable:                  admit   No. Observations:                  397\n",
      "Model:                          Logit   Df Residuals:                      391\n",
      "Method:                           MLE   Df Model:                            5\n",
      "Date:                Tue, 31 Jan 2017   Pseudo R-squ.:                 0.08166\n",
      "Time:                        17:10:50   Log-Likelihood:                -227.82\n",
      "converged:                       True   LL-Null:                       -248.08\n",
      "                                        LLR p-value:                 1.176e-07\n",
      "==============================================================================\n",
      "                 coef    std err          z      P>|z|      [95.0% Conf. Int.]\n",
      "------------------------------------------------------------------------------\n",
      "gre            0.0022      0.001      2.028      0.043      7.44e-05     0.004\n",
      "gpa            0.7793      0.333      2.344      0.019         0.128     1.431\n",
      "1.0           -3.8769      1.142     -3.393      0.001        -6.116    -1.638\n",
      "2.0           -4.5570      1.113     -4.093      0.000        -6.739    -2.375\n",
      "3.0           -5.2155      1.151     -4.530      0.000        -7.472    -2.959\n",
      "4.0           -5.4303      1.140     -4.764      0.000        -7.664    -3.196\n",
      "==============================================================================\n"
     ]
    }
   ],
   "source": [
    "print results.summary()\n"
   ]
  },
  {
   "cell_type": "code",
   "execution_count": 19,
   "metadata": {
    "collapsed": false
   },
   "outputs": [],
   "source": [
    "from sklearn.model_selection import train_test_split\n",
    "X_train, X_test, y_train, y_test = train_test_split(X, y, random_state=1)\n",
    "from sklearn.model_selection import ShuffleSplit\n",
    "cv = ShuffleSplit(n_splits=10, test_size=0.2, random_state=2)\n",
    "from sklearn.preprocessing import StandardScaler\n",
    "stdsc = StandardScaler()\n",
    "X_train_std = stdsc.fit_transform(X_train)\n",
    "X_test_std = stdsc.transform(X_test)"
   ]
  },
  {
   "cell_type": "code",
   "execution_count": 20,
   "metadata": {
    "collapsed": false
   },
   "outputs": [
    {
     "data": {
      "text/plain": [
       "[('gre', 0.37560643110460101),\n",
       " ('gpa', 0.31820912351339253),\n",
       " (1.0, 0.314293862251669),\n",
       " (2.0, 0.20505405224976539),\n",
       " (3.0, -0.21727446585345289),\n",
       " (4.0, -0.28169406531265123)]"
      ]
     },
     "execution_count": 20,
     "metadata": {},
     "output_type": "execute_result"
    }
   ],
   "source": [
    "\n",
    "\n",
    "from sklearn.linear_model import LogisticRegression\n",
    "logreg2 = LogisticRegression( C=10 ** 2)\n",
    "logreg2.fit(X_train_std, y_train)\n",
    "zip(feature_cols, logreg2.coef_[0])\n",
    "\n"
   ]
  },
  {
   "cell_type": "markdown",
   "metadata": {},
   "source": [
    "> ## Question 7.  Discussion\n",
    "> Write up your discussion and future steps."
   ]
  },
  {
   "cell_type": "markdown",
   "metadata": {},
   "source": [
    "Answer:\n",
    "From  this work we can see that the prestige of a student's school does have some predictive correlation to their admission, that relationship is at its strongest with tier-1 schools and gets pregressively weaker. Additionaly, we can see that even with just tier-1 schools, the relationship coefficients are lower than they are with GRE scores and GPA. \n",
    "While some of the steps used in this analysis were flawed, the overall conclusion that prestige is not a reliable predictor for admission seems to be sound. \n",
    "Potential future analysis could include seeing how GRE and GPA scores relate to admission when broken down into ranges, or if, the data can be acquired, how thse features interact with a potential student applying from in/out of California.\n"
   ]
  }
 ],
 "metadata": {
  "anaconda-cloud": {},
  "kernelspec": {
   "display_name": "Python [conda root]",
   "language": "python",
   "name": "conda-root-py"
  },
  "language_info": {
   "codemirror_mode": {
    "name": "ipython",
    "version": 2
   },
   "file_extension": ".py",
   "mimetype": "text/x-python",
   "name": "python",
   "nbconvert_exporter": "python",
   "pygments_lexer": "ipython2",
   "version": "2.7.12"
  }
 },
 "nbformat": 4,
 "nbformat_minor": 0
}
