{
 "cells": [
  {
   "cell_type": "markdown",
   "metadata": {},
   "source": [
    "## Final Project 4: Modeling Performance"
   ]
  },
  {
   "cell_type": "markdown",
   "metadata": {},
   "source": [
    "### Introduction\n",
    "\n",
    "Problem: Predicting a states migrant growth (domestic and international) based on energy consumption, population estimates, and division.\n",
    "\n",
    "Hypothesis: States with higher populations and consumption of electricity and will show a positive rate of net migration\n",
    "\n",
    "United States Energy, Census, and GDP 2010-2014\n",
    "The dataset, a compilation of three government sets, came from kaggle, with the creator providing a dictionary for the variables\n",
    "https://www.kaggle.com/lislejoem/us_energy_census_gdp_10-14\n",
    "Covering the 50 states, DC, and the USA as a whole, it consists Energy Consumption, Production, Expenditures and average price for those four years, total and for biomass, coal, electric, geothermal, natural gas, hydropower, fossil, and lpg(liquid petroleum gas). Population data includes geographic markers, population estimates and changes such as birth, death and migration. Economic Data consists of GDP per quarter and average for that year.\n",
    "\n",
    "The USA data was dropped, as it lacked data for several variables, GDP data was dropped as extrenuous "
   ]
  },
  {
   "cell_type": "code",
   "execution_count": 1,
   "metadata": {
    "collapsed": true
   },
   "outputs": [],
   "source": [
    "import os\n",
    "import pandas as pd\n",
    "import matplotlib.pyplot as plt\n",
    "import seaborn as sns\n",
    "import statsmodels.api as sm\n",
    "\n",
    "%matplotlib inline\n",
    "plt.style.use('ggplot')"
   ]
  },
  {
   "cell_type": "code",
   "execution_count": 2,
   "metadata": {
    "collapsed": false
   },
   "outputs": [
    {
     "data": {
      "text/html": [
       "<div>\n",
       "<table border=\"1\" class=\"dataframe\">\n",
       "  <thead>\n",
       "    <tr style=\"text-align: right;\">\n",
       "      <th></th>\n",
       "      <th>StateCodes</th>\n",
       "      <th>Region</th>\n",
       "      <th>Division</th>\n",
       "      <th>Coast</th>\n",
       "      <th>Great Lakes</th>\n",
       "      <th>TotalC2010</th>\n",
       "      <th>TotalC2011</th>\n",
       "      <th>TotalC2012</th>\n",
       "      <th>TotalC2013</th>\n",
       "      <th>TotalC2014</th>\n",
       "      <th>...</th>\n",
       "      <th>RINTERNATIONALMIG2013</th>\n",
       "      <th>RINTERNATIONALMIG2014</th>\n",
       "      <th>RDOMESTICMIG2011</th>\n",
       "      <th>RDOMESTICMIG2012</th>\n",
       "      <th>RDOMESTICMIG2013</th>\n",
       "      <th>RDOMESTICMIG2014</th>\n",
       "      <th>RNETMIG2011</th>\n",
       "      <th>RNETMIG2012</th>\n",
       "      <th>RNETMIG2013</th>\n",
       "      <th>RNETMIG2014</th>\n",
       "    </tr>\n",
       "  </thead>\n",
       "  <tbody>\n",
       "    <tr>\n",
       "      <th>0</th>\n",
       "      <td>AK</td>\n",
       "      <td>4.0</td>\n",
       "      <td>9.0</td>\n",
       "      <td>1.0</td>\n",
       "      <td>0.0</td>\n",
       "      <td>653221</td>\n",
       "      <td>653637</td>\n",
       "      <td>649341</td>\n",
       "      <td>621107</td>\n",
       "      <td>603119</td>\n",
       "      <td>...</td>\n",
       "      <td>3.203618</td>\n",
       "      <td>2.869760</td>\n",
       "      <td>-1.175137</td>\n",
       "      <td>-1.949571</td>\n",
       "      <td>-3.789313</td>\n",
       "      <td>-13.754494</td>\n",
       "      <td>0.948185</td>\n",
       "      <td>1.835376</td>\n",
       "      <td>-0.585695</td>\n",
       "      <td>-10.884734</td>\n",
       "    </tr>\n",
       "    <tr>\n",
       "      <th>1</th>\n",
       "      <td>AL</td>\n",
       "      <td>3.0</td>\n",
       "      <td>6.0</td>\n",
       "      <td>1.0</td>\n",
       "      <td>0.0</td>\n",
       "      <td>1931522</td>\n",
       "      <td>1905207</td>\n",
       "      <td>1879716</td>\n",
       "      <td>1919365</td>\n",
       "      <td>1958221</td>\n",
       "      <td>...</td>\n",
       "      <td>1.165832</td>\n",
       "      <td>1.157861</td>\n",
       "      <td>-0.020443</td>\n",
       "      <td>-0.168414</td>\n",
       "      <td>0.396416</td>\n",
       "      <td>0.420102</td>\n",
       "      <td>1.011941</td>\n",
       "      <td>1.001333</td>\n",
       "      <td>1.562247</td>\n",
       "      <td>1.577963</td>\n",
       "    </tr>\n",
       "    <tr>\n",
       "      <th>2</th>\n",
       "      <td>AR</td>\n",
       "      <td>4.0</td>\n",
       "      <td>8.0</td>\n",
       "      <td>0.0</td>\n",
       "      <td>0.0</td>\n",
       "      <td>1120632</td>\n",
       "      <td>1122544</td>\n",
       "      <td>1067642</td>\n",
       "      <td>1096438</td>\n",
       "      <td>1114409</td>\n",
       "      <td>...</td>\n",
       "      <td>2.141877</td>\n",
       "      <td>2.129805</td>\n",
       "      <td>1.369514</td>\n",
       "      <td>5.131282</td>\n",
       "      <td>3.910476</td>\n",
       "      <td>6.280636</td>\n",
       "      <td>3.336628</td>\n",
       "      <td>7.155212</td>\n",
       "      <td>6.052353</td>\n",
       "      <td>8.410441</td>\n",
       "    </tr>\n",
       "    <tr>\n",
       "      <th>3</th>\n",
       "      <td>AZ</td>\n",
       "      <td>3.0</td>\n",
       "      <td>7.0</td>\n",
       "      <td>0.0</td>\n",
       "      <td>0.0</td>\n",
       "      <td>1383531</td>\n",
       "      <td>1424944</td>\n",
       "      <td>1395839</td>\n",
       "      <td>1414383</td>\n",
       "      <td>1422590</td>\n",
       "      <td>...</td>\n",
       "      <td>1.090035</td>\n",
       "      <td>1.091283</td>\n",
       "      <td>1.341472</td>\n",
       "      <td>-0.420875</td>\n",
       "      <td>-0.580562</td>\n",
       "      <td>-1.313050</td>\n",
       "      <td>2.317801</td>\n",
       "      <td>0.621971</td>\n",
       "      <td>0.509473</td>\n",
       "      <td>-0.221767</td>\n",
       "    </tr>\n",
       "    <tr>\n",
       "      <th>4</th>\n",
       "      <td>CA</td>\n",
       "      <td>4.0</td>\n",
       "      <td>9.0</td>\n",
       "      <td>1.0</td>\n",
       "      <td>0.0</td>\n",
       "      <td>7760629</td>\n",
       "      <td>7777115</td>\n",
       "      <td>7564063</td>\n",
       "      <td>7665241</td>\n",
       "      <td>7620082</td>\n",
       "      <td>...</td>\n",
       "      <td>4.207353</td>\n",
       "      <td>4.177389</td>\n",
       "      <td>-1.162079</td>\n",
       "      <td>-1.173951</td>\n",
       "      <td>-1.341226</td>\n",
       "      <td>-0.830982</td>\n",
       "      <td>2.761377</td>\n",
       "      <td>2.772770</td>\n",
       "      <td>2.866127</td>\n",
       "      <td>3.346406</td>\n",
       "    </tr>\n",
       "    <tr>\n",
       "      <th>5</th>\n",
       "      <td>CO</td>\n",
       "      <td>4.0</td>\n",
       "      <td>8.0</td>\n",
       "      <td>0.0</td>\n",
       "      <td>0.0</td>\n",
       "      <td>1513547</td>\n",
       "      <td>1470445</td>\n",
       "      <td>1440781</td>\n",
       "      <td>1470844</td>\n",
       "      <td>1477177</td>\n",
       "      <td>...</td>\n",
       "      <td>2.074200</td>\n",
       "      <td>2.010735</td>\n",
       "      <td>5.183397</td>\n",
       "      <td>5.553675</td>\n",
       "      <td>6.977583</td>\n",
       "      <td>7.587163</td>\n",
       "      <td>6.933159</td>\n",
       "      <td>7.660864</td>\n",
       "      <td>9.051783</td>\n",
       "      <td>9.597898</td>\n",
       "    </tr>\n",
       "    <tr>\n",
       "      <th>6</th>\n",
       "      <td>CT</td>\n",
       "      <td>1.0</td>\n",
       "      <td>1.0</td>\n",
       "      <td>1.0</td>\n",
       "      <td>0.0</td>\n",
       "      <td>764970</td>\n",
       "      <td>739130</td>\n",
       "      <td>725019</td>\n",
       "      <td>754901</td>\n",
       "      <td>750019</td>\n",
       "      <td>...</td>\n",
       "      <td>4.753602</td>\n",
       "      <td>4.730950</td>\n",
       "      <td>-3.384435</td>\n",
       "      <td>-5.611492</td>\n",
       "      <td>-4.731638</td>\n",
       "      <td>-7.286252</td>\n",
       "      <td>1.116894</td>\n",
       "      <td>-1.059166</td>\n",
       "      <td>0.021964</td>\n",
       "      <td>-2.555302</td>\n",
       "    </tr>\n",
       "    <tr>\n",
       "      <th>7</th>\n",
       "      <td>DC</td>\n",
       "      <td>3.0</td>\n",
       "      <td>5.0</td>\n",
       "      <td>0.0</td>\n",
       "      <td>0.0</td>\n",
       "      <td>190529</td>\n",
       "      <td>183806</td>\n",
       "      <td>172963</td>\n",
       "      <td>175560</td>\n",
       "      <td>178929</td>\n",
       "      <td>...</td>\n",
       "      <td>5.871584</td>\n",
       "      <td>5.749218</td>\n",
       "      <td>11.332882</td>\n",
       "      <td>10.005838</td>\n",
       "      <td>9.777666</td>\n",
       "      <td>1.793572</td>\n",
       "      <td>16.805955</td>\n",
       "      <td>15.595790</td>\n",
       "      <td>15.649250</td>\n",
       "      <td>7.542790</td>\n",
       "    </tr>\n",
       "    <tr>\n",
       "      <th>8</th>\n",
       "      <td>DE</td>\n",
       "      <td>3.0</td>\n",
       "      <td>5.0</td>\n",
       "      <td>1.0</td>\n",
       "      <td>0.0</td>\n",
       "      <td>250212</td>\n",
       "      <td>272568</td>\n",
       "      <td>273728</td>\n",
       "      <td>273716</td>\n",
       "      <td>274013</td>\n",
       "      <td>...</td>\n",
       "      <td>2.608949</td>\n",
       "      <td>2.565489</td>\n",
       "      <td>2.866848</td>\n",
       "      <td>3.598380</td>\n",
       "      <td>3.397171</td>\n",
       "      <td>5.148174</td>\n",
       "      <td>5.303282</td>\n",
       "      <td>6.221263</td>\n",
       "      <td>6.006120</td>\n",
       "      <td>7.713663</td>\n",
       "    </tr>\n",
       "    <tr>\n",
       "      <th>9</th>\n",
       "      <td>FL</td>\n",
       "      <td>3.0</td>\n",
       "      <td>5.0</td>\n",
       "      <td>1.0</td>\n",
       "      <td>0.0</td>\n",
       "      <td>4282673</td>\n",
       "      <td>4141711</td>\n",
       "      <td>4029903</td>\n",
       "      <td>4076406</td>\n",
       "      <td>4121680</td>\n",
       "      <td>...</td>\n",
       "      <td>5.783717</td>\n",
       "      <td>5.687300</td>\n",
       "      <td>5.540393</td>\n",
       "      <td>5.125320</td>\n",
       "      <td>4.918783</td>\n",
       "      <td>7.016123</td>\n",
       "      <td>11.359606</td>\n",
       "      <td>10.722573</td>\n",
       "      <td>10.702501</td>\n",
       "      <td>12.703423</td>\n",
       "    </tr>\n",
       "  </tbody>\n",
       "</table>\n",
       "<p>10 rows × 191 columns</p>\n",
       "</div>"
      ],
      "text/plain": [
       "  StateCodes  Region  Division  Coast  Great Lakes  TotalC2010  TotalC2011  \\\n",
       "0         AK     4.0       9.0    1.0          0.0      653221      653637   \n",
       "1         AL     3.0       6.0    1.0          0.0     1931522     1905207   \n",
       "2         AR     4.0       8.0    0.0          0.0     1120632     1122544   \n",
       "3         AZ     3.0       7.0    0.0          0.0     1383531     1424944   \n",
       "4         CA     4.0       9.0    1.0          0.0     7760629     7777115   \n",
       "5         CO     4.0       8.0    0.0          0.0     1513547     1470445   \n",
       "6         CT     1.0       1.0    1.0          0.0      764970      739130   \n",
       "7         DC     3.0       5.0    0.0          0.0      190529      183806   \n",
       "8         DE     3.0       5.0    1.0          0.0      250212      272568   \n",
       "9         FL     3.0       5.0    1.0          0.0     4282673     4141711   \n",
       "\n",
       "   TotalC2012  TotalC2013  TotalC2014     ...       RINTERNATIONALMIG2013  \\\n",
       "0      649341      621107      603119     ...                    3.203618   \n",
       "1     1879716     1919365     1958221     ...                    1.165832   \n",
       "2     1067642     1096438     1114409     ...                    2.141877   \n",
       "3     1395839     1414383     1422590     ...                    1.090035   \n",
       "4     7564063     7665241     7620082     ...                    4.207353   \n",
       "5     1440781     1470844     1477177     ...                    2.074200   \n",
       "6      725019      754901      750019     ...                    4.753602   \n",
       "7      172963      175560      178929     ...                    5.871584   \n",
       "8      273728      273716      274013     ...                    2.608949   \n",
       "9     4029903     4076406     4121680     ...                    5.783717   \n",
       "\n",
       "   RINTERNATIONALMIG2014  RDOMESTICMIG2011  RDOMESTICMIG2012  \\\n",
       "0               2.869760         -1.175137         -1.949571   \n",
       "1               1.157861         -0.020443         -0.168414   \n",
       "2               2.129805          1.369514          5.131282   \n",
       "3               1.091283          1.341472         -0.420875   \n",
       "4               4.177389         -1.162079         -1.173951   \n",
       "5               2.010735          5.183397          5.553675   \n",
       "6               4.730950         -3.384435         -5.611492   \n",
       "7               5.749218         11.332882         10.005838   \n",
       "8               2.565489          2.866848          3.598380   \n",
       "9               5.687300          5.540393          5.125320   \n",
       "\n",
       "   RDOMESTICMIG2013  RDOMESTICMIG2014  RNETMIG2011  RNETMIG2012  RNETMIG2013  \\\n",
       "0         -3.789313        -13.754494     0.948185     1.835376    -0.585695   \n",
       "1          0.396416          0.420102     1.011941     1.001333     1.562247   \n",
       "2          3.910476          6.280636     3.336628     7.155212     6.052353   \n",
       "3         -0.580562         -1.313050     2.317801     0.621971     0.509473   \n",
       "4         -1.341226         -0.830982     2.761377     2.772770     2.866127   \n",
       "5          6.977583          7.587163     6.933159     7.660864     9.051783   \n",
       "6         -4.731638         -7.286252     1.116894    -1.059166     0.021964   \n",
       "7          9.777666          1.793572    16.805955    15.595790    15.649250   \n",
       "8          3.397171          5.148174     5.303282     6.221263     6.006120   \n",
       "9          4.918783          7.016123    11.359606    10.722573    10.702501   \n",
       "\n",
       "   RNETMIG2014  \n",
       "0   -10.884734  \n",
       "1     1.577963  \n",
       "2     8.410441  \n",
       "3    -0.221767  \n",
       "4     3.346406  \n",
       "5     9.597898  \n",
       "6    -2.555302  \n",
       "7     7.542790  \n",
       "8     7.713663  \n",
       "9    12.703423  \n",
       "\n",
       "[10 rows x 191 columns]"
      ]
     },
     "execution_count": 2,
     "metadata": {},
     "output_type": "execute_result"
    }
   ],
   "source": [
    "df = pd.read_csv(os.path.join('..', '..', 'final-project', 'Energy Census and Economic Data US 2010-2014.csv'))\n",
    "df.head(10)"
   ]
  },
  {
   "cell_type": "code",
   "execution_count": 3,
   "metadata": {
    "collapsed": false
   },
   "outputs": [
    {
     "name": "stdout",
     "output_type": "stream",
     "text": [
      "<class 'pandas.core.frame.DataFrame'>\n",
      "RangeIndex: 52 entries, 0 to 51\n",
      "Columns: 191 entries, StateCodes to RNETMIG2014\n",
      "dtypes: float64(99), int64(91), object(1)\n",
      "memory usage: 77.7+ KB\n"
     ]
    }
   ],
   "source": [
    "df.info()"
   ]
  },
  {
   "cell_type": "code",
   "execution_count": 4,
   "metadata": {
    "collapsed": false
   },
   "outputs": [
    {
     "data": {
      "text/plain": [
       "array(['StateCodes', 'Region', 'Division', 'Coast', 'Great Lakes',\n",
       "       'TotalC2010', 'TotalC2011', 'TotalC2012', 'TotalC2013',\n",
       "       'TotalC2014', 'TotalP2010', 'TotalP2011', 'TotalP2012',\n",
       "       'TotalP2013', 'TotalP2014', 'TotalE2010', 'TotalE2011',\n",
       "       'TotalE2012', 'TotalE2013', 'TotalE2014', 'TotalPrice2010',\n",
       "       'TotalPrice2011', 'TotalPrice2012', 'TotalPrice2013',\n",
       "       'TotalPrice2014', 'TotalC10-11', 'TotalC11-12', 'TotalC12-13',\n",
       "       'TotalC13-14', 'TotalP10-11', 'TotalP11-12', 'TotalP12-13',\n",
       "       'TotalP13-14', 'TotalE10-11', 'TotalE11-12', 'TotalE12-13',\n",
       "       'TotalE13-14', 'TotalPrice10-11', 'TotalPrice11-12',\n",
       "       'TotalPrice12-13', 'TotalPrice13-14', 'BiomassC2010',\n",
       "       'BiomassC2011', 'BiomassC2012', 'BiomassC2013', 'BiomassC2014',\n",
       "       'CoalC2010', 'CoalC2011', 'CoalC2012', 'CoalC2013', 'CoalC2014',\n",
       "       'CoalP2010', 'CoalP2011', 'CoalP2012', 'CoalP2013', 'CoalP2014',\n",
       "       'CoalE2010', 'CoalE2011', 'CoalE2012', 'CoalE2013', 'CoalE2014',\n",
       "       'CoalPrice2010', 'CoalPrice2011', 'CoalPrice2012', 'CoalPrice2013',\n",
       "       'CoalPrice2014', 'ElecC2010', 'ElecC2011', 'ElecC2012', 'ElecC2013',\n",
       "       'ElecC2014', 'ElecE2010', 'ElecE2011', 'ElecE2012', 'ElecE2013',\n",
       "       'ElecE2014', 'ElecPrice2010', 'ElecPrice2011', 'ElecPrice2012',\n",
       "       'ElecPrice2013', 'ElecPrice2014', 'FossFuelC2010', 'FossFuelC2011',\n",
       "       'FossFuelC2012', 'FossFuelC2013', 'FossFuelC2014', 'GeoC2010',\n",
       "       'GeoC2011', 'GeoC2012', 'GeoC2013', 'GeoC2014', 'GeoP2010',\n",
       "       'GeoP2011', 'GeoP2012', 'GeoP2013', 'GeoP2014', 'HydroC2010',\n",
       "       'HydroC2011', 'HydroC2012', 'HydroC2013', 'HydroC2014',\n",
       "       'HydroP2010', 'HydroP2011', 'HydroP2012', 'HydroP2013',\n",
       "       'HydroP2014', 'NatGasC2010', 'NatGasC2011', 'NatGasC2012',\n",
       "       'NatGasC2013', 'NatGasC2014', 'NatGasE2010', 'NatGasE2011',\n",
       "       'NatGasE2012', 'NatGasE2013', 'NatGasE2014', 'NatGasPrice2010',\n",
       "       'NatGasPrice2011', 'NatGasPrice2012', 'NatGasPrice2013',\n",
       "       'NatGasPrice2014', 'LPGC2010', 'LPGC2011', 'LPGC2012', 'LPGC2013',\n",
       "       'LPGC2014', 'LPGE2010', 'LPGE2011', 'LPGE2012', 'LPGE2013',\n",
       "       'LPGE2014', 'LPGPrice2010', 'LPGPrice2011', 'LPGPrice2012',\n",
       "       'LPGPrice2013', 'LPGPrice2014', 'GDP2010Q1', 'GDP2010Q2',\n",
       "       'GDP2010Q3', 'GDP2010Q4', 'GDP2010', 'GDP2011Q1', 'GDP2011Q2',\n",
       "       'GDP2011Q3', 'GDP2011Q4', 'GDP2011', 'GDP2012Q1', 'GDP2012Q2',\n",
       "       'GDP2012Q3', 'GDP2012Q4', 'GDP2012', 'GDP2013Q1', 'GDP2013Q2',\n",
       "       'GDP2013Q3', 'GDP2013Q4', 'GDP2013', 'GDP2014Q1', 'GDP2014Q2',\n",
       "       'GDP2014Q3', 'GDP2014Q4', 'GDP2014', 'CENSUS2010POP',\n",
       "       'POPESTIMATE2010', 'POPESTIMATE2011', 'POPESTIMATE2012',\n",
       "       'POPESTIMATE2013', 'POPESTIMATE2014', 'RBIRTH2011', 'RBIRTH2012',\n",
       "       'RBIRTH2013', 'RBIRTH2014', 'RDEATH2011', 'RDEATH2012',\n",
       "       'RDEATH2013', 'RDEATH2014', 'RNATURALINC2011', 'RNATURALINC2012',\n",
       "       'RNATURALINC2013', 'RNATURALINC2014', 'RINTERNATIONALMIG2011',\n",
       "       'RINTERNATIONALMIG2012', 'RINTERNATIONALMIG2013',\n",
       "       'RINTERNATIONALMIG2014', 'RDOMESTICMIG2011', 'RDOMESTICMIG2012',\n",
       "       'RDOMESTICMIG2013', 'RDOMESTICMIG2014', 'RNETMIG2011',\n",
       "       'RNETMIG2012', 'RNETMIG2013', 'RNETMIG2014'], dtype=object)"
      ]
     },
     "execution_count": 4,
     "metadata": {},
     "output_type": "execute_result"
    }
   ],
   "source": [
    "df.columns.values"
   ]
  },
  {
   "cell_type": "code",
   "execution_count": 5,
   "metadata": {
    "collapsed": false
   },
   "outputs": [
    {
     "name": "stderr",
     "output_type": "stream",
     "text": [
      "/Users/sameerkurien/anaconda/lib/python2.7/site-packages/numpy/lib/function_base.py:3834: RuntimeWarning: Invalid value encountered in percentile\n",
      "  RuntimeWarning)\n"
     ]
    },
    {
     "data": {
      "text/html": [
       "<div>\n",
       "<table border=\"1\" class=\"dataframe\">\n",
       "  <thead>\n",
       "    <tr style=\"text-align: right;\">\n",
       "      <th></th>\n",
       "      <th>Region</th>\n",
       "      <th>Division</th>\n",
       "      <th>Coast</th>\n",
       "      <th>Great Lakes</th>\n",
       "      <th>TotalC2010</th>\n",
       "      <th>TotalC2011</th>\n",
       "      <th>TotalC2012</th>\n",
       "      <th>TotalC2013</th>\n",
       "      <th>TotalC2014</th>\n",
       "      <th>TotalP2010</th>\n",
       "      <th>...</th>\n",
       "      <th>RINTERNATIONALMIG2013</th>\n",
       "      <th>RINTERNATIONALMIG2014</th>\n",
       "      <th>RDOMESTICMIG2011</th>\n",
       "      <th>RDOMESTICMIG2012</th>\n",
       "      <th>RDOMESTICMIG2013</th>\n",
       "      <th>RDOMESTICMIG2014</th>\n",
       "      <th>RNETMIG2011</th>\n",
       "      <th>RNETMIG2012</th>\n",
       "      <th>RNETMIG2013</th>\n",
       "      <th>RNETMIG2014</th>\n",
       "    </tr>\n",
       "  </thead>\n",
       "  <tbody>\n",
       "    <tr>\n",
       "      <th>count</th>\n",
       "      <td>51.000000</td>\n",
       "      <td>51.000000</td>\n",
       "      <td>51.000000</td>\n",
       "      <td>51.000000</td>\n",
       "      <td>5.200000e+01</td>\n",
       "      <td>5.200000e+01</td>\n",
       "      <td>5.200000e+01</td>\n",
       "      <td>5.200000e+01</td>\n",
       "      <td>5.200000e+01</td>\n",
       "      <td>5.200000e+01</td>\n",
       "      <td>...</td>\n",
       "      <td>52.000000</td>\n",
       "      <td>52.000000</td>\n",
       "      <td>51.000000</td>\n",
       "      <td>51.000000</td>\n",
       "      <td>51.000000</td>\n",
       "      <td>51.000000</td>\n",
       "      <td>52.000000</td>\n",
       "      <td>52.000000</td>\n",
       "      <td>52.000000</td>\n",
       "      <td>52.000000</td>\n",
       "    </tr>\n",
       "    <tr>\n",
       "      <th>mean</th>\n",
       "      <td>2.666667</td>\n",
       "      <td>5.117647</td>\n",
       "      <td>0.450980</td>\n",
       "      <td>0.156863</td>\n",
       "      <td>3.748043e+06</td>\n",
       "      <td>3.723920e+06</td>\n",
       "      <td>3.631132e+06</td>\n",
       "      <td>3.736541e+06</td>\n",
       "      <td>3.784461e+06</td>\n",
       "      <td>2.759090e+06</td>\n",
       "      <td>...</td>\n",
       "      <td>2.545359</td>\n",
       "      <td>2.501026</td>\n",
       "      <td>0.309307</td>\n",
       "      <td>0.617791</td>\n",
       "      <td>0.773470</td>\n",
       "      <td>-0.086251</td>\n",
       "      <td>2.587748</td>\n",
       "      <td>3.117434</td>\n",
       "      <td>3.303955</td>\n",
       "      <td>2.416433</td>\n",
       "    </tr>\n",
       "    <tr>\n",
       "      <th>std</th>\n",
       "      <td>1.051982</td>\n",
       "      <td>2.534932</td>\n",
       "      <td>0.502543</td>\n",
       "      <td>0.367290</td>\n",
       "      <td>1.339845e+07</td>\n",
       "      <td>1.331718e+07</td>\n",
       "      <td>1.298862e+07</td>\n",
       "      <td>1.336881e+07</td>\n",
       "      <td>1.354064e+07</td>\n",
       "      <td>1.038432e+07</td>\n",
       "      <td>...</td>\n",
       "      <td>1.598187</td>\n",
       "      <td>1.569279</td>\n",
       "      <td>3.334579</td>\n",
       "      <td>4.332419</td>\n",
       "      <td>4.776573</td>\n",
       "      <td>4.895949</td>\n",
       "      <td>3.602628</td>\n",
       "      <td>4.383237</td>\n",
       "      <td>4.819083</td>\n",
       "      <td>4.794439</td>\n",
       "    </tr>\n",
       "    <tr>\n",
       "      <th>min</th>\n",
       "      <td>1.000000</td>\n",
       "      <td>1.000000</td>\n",
       "      <td>0.000000</td>\n",
       "      <td>0.000000</td>\n",
       "      <td>1.536970e+05</td>\n",
       "      <td>1.504750e+05</td>\n",
       "      <td>1.304120e+05</td>\n",
       "      <td>1.375270e+05</td>\n",
       "      <td>1.398970e+05</td>\n",
       "      <td>9.500000e+01</td>\n",
       "      <td>...</td>\n",
       "      <td>0.631283</td>\n",
       "      <td>0.628523</td>\n",
       "      <td>-5.839158</td>\n",
       "      <td>-5.946809</td>\n",
       "      <td>-5.482049</td>\n",
       "      <td>-13.754494</td>\n",
       "      <td>-3.182714</td>\n",
       "      <td>-3.382339</td>\n",
       "      <td>-3.778986</td>\n",
       "      <td>-10.884734</td>\n",
       "    </tr>\n",
       "    <tr>\n",
       "      <th>25%</th>\n",
       "      <td>NaN</td>\n",
       "      <td>NaN</td>\n",
       "      <td>NaN</td>\n",
       "      <td>NaN</td>\n",
       "      <td>6.488725e+05</td>\n",
       "      <td>6.483915e+05</td>\n",
       "      <td>6.468032e+05</td>\n",
       "      <td>6.499528e+05</td>\n",
       "      <td>6.552158e+05</td>\n",
       "      <td>2.444558e+05</td>\n",
       "      <td>...</td>\n",
       "      <td>1.411803</td>\n",
       "      <td>1.392360</td>\n",
       "      <td>NaN</td>\n",
       "      <td>NaN</td>\n",
       "      <td>NaN</td>\n",
       "      <td>NaN</td>\n",
       "      <td>0.421528</td>\n",
       "      <td>0.092413</td>\n",
       "      <td>0.002172</td>\n",
       "      <td>-0.273974</td>\n",
       "    </tr>\n",
       "    <tr>\n",
       "      <th>50%</th>\n",
       "      <td>NaN</td>\n",
       "      <td>NaN</td>\n",
       "      <td>NaN</td>\n",
       "      <td>NaN</td>\n",
       "      <td>1.482116e+06</td>\n",
       "      <td>1.447694e+06</td>\n",
       "      <td>1.417946e+06</td>\n",
       "      <td>1.449638e+06</td>\n",
       "      <td>1.457408e+06</td>\n",
       "      <td>6.383085e+05</td>\n",
       "      <td>...</td>\n",
       "      <td>2.042578</td>\n",
       "      <td>2.019803</td>\n",
       "      <td>NaN</td>\n",
       "      <td>NaN</td>\n",
       "      <td>NaN</td>\n",
       "      <td>NaN</td>\n",
       "      <td>1.709057</td>\n",
       "      <td>1.642785</td>\n",
       "      <td>2.051458</td>\n",
       "      <td>1.524206</td>\n",
       "    </tr>\n",
       "    <tr>\n",
       "      <th>75%</th>\n",
       "      <td>NaN</td>\n",
       "      <td>NaN</td>\n",
       "      <td>NaN</td>\n",
       "      <td>NaN</td>\n",
       "      <td>2.533853e+06</td>\n",
       "      <td>2.448560e+06</td>\n",
       "      <td>2.378196e+06</td>\n",
       "      <td>2.443520e+06</td>\n",
       "      <td>2.461348e+06</td>\n",
       "      <td>1.499262e+06</td>\n",
       "      <td>...</td>\n",
       "      <td>3.201814</td>\n",
       "      <td>3.142864</td>\n",
       "      <td>NaN</td>\n",
       "      <td>NaN</td>\n",
       "      <td>NaN</td>\n",
       "      <td>NaN</td>\n",
       "      <td>4.264455</td>\n",
       "      <td>5.460200</td>\n",
       "      <td>5.720351</td>\n",
       "      <td>5.357469</td>\n",
       "    </tr>\n",
       "    <tr>\n",
       "      <th>max</th>\n",
       "      <td>4.000000</td>\n",
       "      <td>9.000000</td>\n",
       "      <td>1.000000</td>\n",
       "      <td>1.000000</td>\n",
       "      <td>9.744602e+07</td>\n",
       "      <td>9.682746e+07</td>\n",
       "      <td>9.441143e+07</td>\n",
       "      <td>9.714137e+07</td>\n",
       "      <td>9.838521e+07</td>\n",
       "      <td>7.459311e+07</td>\n",
       "      <td>...</td>\n",
       "      <td>6.426691</td>\n",
       "      <td>6.074495</td>\n",
       "      <td>11.332882</td>\n",
       "      <td>15.589637</td>\n",
       "      <td>23.189451</td>\n",
       "      <td>12.265101</td>\n",
       "      <td>16.805955</td>\n",
       "      <td>17.804574</td>\n",
       "      <td>25.104485</td>\n",
       "      <td>14.028192</td>\n",
       "    </tr>\n",
       "  </tbody>\n",
       "</table>\n",
       "<p>8 rows × 190 columns</p>\n",
       "</div>"
      ],
      "text/plain": [
       "          Region   Division      Coast  Great Lakes    TotalC2010  \\\n",
       "count  51.000000  51.000000  51.000000    51.000000  5.200000e+01   \n",
       "mean    2.666667   5.117647   0.450980     0.156863  3.748043e+06   \n",
       "std     1.051982   2.534932   0.502543     0.367290  1.339845e+07   \n",
       "min     1.000000   1.000000   0.000000     0.000000  1.536970e+05   \n",
       "25%          NaN        NaN        NaN          NaN  6.488725e+05   \n",
       "50%          NaN        NaN        NaN          NaN  1.482116e+06   \n",
       "75%          NaN        NaN        NaN          NaN  2.533853e+06   \n",
       "max     4.000000   9.000000   1.000000     1.000000  9.744602e+07   \n",
       "\n",
       "         TotalC2011    TotalC2012    TotalC2013    TotalC2014    TotalP2010  \\\n",
       "count  5.200000e+01  5.200000e+01  5.200000e+01  5.200000e+01  5.200000e+01   \n",
       "mean   3.723920e+06  3.631132e+06  3.736541e+06  3.784461e+06  2.759090e+06   \n",
       "std    1.331718e+07  1.298862e+07  1.336881e+07  1.354064e+07  1.038432e+07   \n",
       "min    1.504750e+05  1.304120e+05  1.375270e+05  1.398970e+05  9.500000e+01   \n",
       "25%    6.483915e+05  6.468032e+05  6.499528e+05  6.552158e+05  2.444558e+05   \n",
       "50%    1.447694e+06  1.417946e+06  1.449638e+06  1.457408e+06  6.383085e+05   \n",
       "75%    2.448560e+06  2.378196e+06  2.443520e+06  2.461348e+06  1.499262e+06   \n",
       "max    9.682746e+07  9.441143e+07  9.714137e+07  9.838521e+07  7.459311e+07   \n",
       "\n",
       "          ...       RINTERNATIONALMIG2013  RINTERNATIONALMIG2014  \\\n",
       "count     ...                   52.000000              52.000000   \n",
       "mean      ...                    2.545359               2.501026   \n",
       "std       ...                    1.598187               1.569279   \n",
       "min       ...                    0.631283               0.628523   \n",
       "25%       ...                    1.411803               1.392360   \n",
       "50%       ...                    2.042578               2.019803   \n",
       "75%       ...                    3.201814               3.142864   \n",
       "max       ...                    6.426691               6.074495   \n",
       "\n",
       "       RDOMESTICMIG2011  RDOMESTICMIG2012  RDOMESTICMIG2013  RDOMESTICMIG2014  \\\n",
       "count         51.000000         51.000000         51.000000         51.000000   \n",
       "mean           0.309307          0.617791          0.773470         -0.086251   \n",
       "std            3.334579          4.332419          4.776573          4.895949   \n",
       "min           -5.839158         -5.946809         -5.482049        -13.754494   \n",
       "25%                 NaN               NaN               NaN               NaN   \n",
       "50%                 NaN               NaN               NaN               NaN   \n",
       "75%                 NaN               NaN               NaN               NaN   \n",
       "max           11.332882         15.589637         23.189451         12.265101   \n",
       "\n",
       "       RNETMIG2011  RNETMIG2012  RNETMIG2013  RNETMIG2014  \n",
       "count    52.000000    52.000000    52.000000    52.000000  \n",
       "mean      2.587748     3.117434     3.303955     2.416433  \n",
       "std       3.602628     4.383237     4.819083     4.794439  \n",
       "min      -3.182714    -3.382339    -3.778986   -10.884734  \n",
       "25%       0.421528     0.092413     0.002172    -0.273974  \n",
       "50%       1.709057     1.642785     2.051458     1.524206  \n",
       "75%       4.264455     5.460200     5.720351     5.357469  \n",
       "max      16.805955    17.804574    25.104485    14.028192  \n",
       "\n",
       "[8 rows x 190 columns]"
      ]
     },
     "execution_count": 5,
     "metadata": {},
     "output_type": "execute_result"
    }
   ],
   "source": [
    "df.describe()"
   ]
  },
  {
   "cell_type": "code",
   "execution_count": 6,
   "metadata": {
    "collapsed": true
   },
   "outputs": [],
   "source": [
    "df = df[df.StateCodes != 'US']"
   ]
  },
  {
   "cell_type": "code",
   "execution_count": 7,
   "metadata": {
    "collapsed": true
   },
   "outputs": [],
   "source": [
    "df.drop(['GDP2010Q1', 'GDP2010Q2',\n",
    "       'GDP2010Q3', 'GDP2010Q4', 'GDP2010', 'GDP2011Q1', 'GDP2011Q2',\n",
    "       'GDP2011Q3', 'GDP2011Q4', 'GDP2011', 'GDP2012Q1', 'GDP2012Q2',\n",
    "       'GDP2012Q3', 'GDP2012Q4', 'GDP2012', 'GDP2013Q1', 'GDP2013Q2',\n",
    "       'GDP2013Q3', 'GDP2013Q4', 'GDP2013', 'GDP2014Q1', 'GDP2014Q2',\n",
    "       'GDP2014Q3', 'GDP2014Q4', 'GDP2014'], axis =1, inplace =True)"
   ]
  },
  {
   "cell_type": "markdown",
   "metadata": {},
   "source": [
    "looked at both regional and divisional differences."
   ]
  },
  {
   "cell_type": "code",
   "execution_count": 8,
   "metadata": {
    "collapsed": false
   },
   "outputs": [
    {
     "data": {
      "text/plain": [
       "<matplotlib.axes._subplots.AxesSubplot at 0x11670e9d0>"
      ]
     },
     "execution_count": 8,
     "metadata": {},
     "output_type": "execute_result"
    },
    {
     "data": {
      "image/png": "[encoded data removed]",
      "text/plain": [
       "<matplotlib.figure.Figure at 0x1056d90d0>"
      ]
     },
     "metadata": {},
     "output_type": "display_data"
    }
   ],
   "source": [
    "df['Region'].plot(kind= 'hist')"
   ]
  },
  {
   "cell_type": "code",
   "execution_count": 9,
   "metadata": {
    "collapsed": false
   },
   "outputs": [
    {
     "data": {
      "text/plain": [
       "<matplotlib.axes._subplots.AxesSubplot at 0x11686cc10>"
      ]
     },
     "execution_count": 9,
     "metadata": {},
     "output_type": "execute_result"
    },
    {
     "data": {
      "image/png": "[encoded data removed]",
      "text/plain": [
       "<matplotlib.figure.Figure at 0x11670e950>"
      ]
     },
     "metadata": {},
     "output_type": "display_data"
    }
   ],
   "source": [
    "df['Division'].plot(kind= 'hist')"
   ]
  },
  {
   "cell_type": "markdown",
   "metadata": {},
   "source": [
    "Examining the data over several plots seemed to indicate little notable difference over the time period covered."
   ]
  },
  {
   "cell_type": "code",
   "execution_count": 10,
   "metadata": {
    "collapsed": false
   },
   "outputs": [
    {
     "data": {
      "text/plain": [
       "<matplotlib.text.Text at 0x11914fc90>"
      ]
     },
     "execution_count": 10,
     "metadata": {},
     "output_type": "execute_result"
    },
    {
     "data": {
      "image/png": "[encoded data removed]",
      "text/plain": [
       "<matplotlib.figure.Figure at 0x119035150>"
      ]
     },
     "metadata": {},
     "output_type": "display_data"
    }
   ],
   "source": [
    "plt.scatter(df.POPESTIMATE2011, df.TotalC2011, c= 'b', label = '2011')\n",
    "plt.scatter(df.POPESTIMATE2014, df.TotalC2014, c= 'r', label = '2014')\n",
    "plt.title('Pop. vs Total Consumption, 2011 2014')"
   ]
  },
  {
   "cell_type": "code",
   "execution_count": 11,
   "metadata": {
    "collapsed": false
   },
   "outputs": [
    {
     "data": {
      "text/plain": [
       "<matplotlib.text.Text at 0x1192db890>"
      ]
     },
     "execution_count": 11,
     "metadata": {},
     "output_type": "execute_result"
    },
    {
     "data": {
      "image/png": "[encoded data removed]",
      "text/plain": [
       "<matplotlib.figure.Figure at 0x11913ce50>"
      ]
     },
     "metadata": {},
     "output_type": "display_data"
    }
   ],
   "source": [
    "plt.scatter(df.POPESTIMATE2011, df.ElecC2011, c= 'b', label = '2011')\n",
    "plt.scatter(df.POPESTIMATE2014, df.ElecC2014, c= 'r', label = '2014')\n",
    "plt.title('Pop. vs  Electric Consumption, 2011 2014 ')"
   ]
  },
  {
   "cell_type": "code",
   "execution_count": 12,
   "metadata": {
    "collapsed": false
   },
   "outputs": [
    {
     "data": {
      "text/plain": [
       "<matplotlib.text.Text at 0x1194661d0>"
      ]
     },
     "execution_count": 12,
     "metadata": {},
     "output_type": "execute_result"
    },
    {
     "data": {
      "image/png": "[encoded data removed]",
      "text/plain": [
       "<matplotlib.figure.Figure at 0x1194191d0>"
      ]
     },
     "metadata": {},
     "output_type": "display_data"
    }
   ],
   "source": [
    "plt.scatter(df.POPESTIMATE2011, df.LPGC2011, c= 'b', label = '2011')\n",
    "plt.scatter(df.POPESTIMATE2014, df.LPGC2014, c= 'r', label = '2014')\n",
    "plt.title('Pop. vs  LPG Consumption, 2011 2014 ')"
   ]
  },
  {
   "cell_type": "code",
   "execution_count": null,
   "metadata": {
    "collapsed": true
   },
   "outputs": [],
   "source": []
  },
  {
   "cell_type": "markdown",
   "metadata": {},
   "source": [
    "Dropped data for non-2014 years, as well as region "
   ]
  },
  {
   "cell_type": "code",
   "execution_count": 13,
   "metadata": {
    "collapsed": true
   },
   "outputs": [],
   "source": [
    "df.drop(['Region', 'Coast', 'Great Lakes', 'TotalP2010', 'TotalP2011', 'TotalP2012',\n",
    "       'TotalP2013', 'TotalP2014', 'TotalE2010', 'TotalE2011',\n",
    "       'TotalE2012', 'TotalE2013', 'TotalE2014', 'TotalPrice2010',\n",
    "       'TotalPrice2011', 'TotalPrice2012', 'TotalPrice2013',\n",
    "       'TotalPrice2014', 'TotalC10-11', 'TotalC11-12', 'TotalC12-13',\n",
    "       'TotalC13-14', 'TotalP10-11', 'TotalP11-12', 'TotalP12-13',\n",
    "       'TotalP13-14', 'TotalE10-11', 'TotalE11-12', 'TotalE12-13',\n",
    "       'TotalE13-14', 'TotalPrice10-11', 'TotalPrice11-12',\n",
    "       'TotalPrice12-13', 'TotalPrice13-14', \n",
    "       'CoalP2010', 'CoalP2011', 'CoalP2012', 'CoalP2013', 'CoalP2014',\n",
    "       'CoalE2010', 'CoalE2011', 'CoalE2012', 'CoalE2013', 'CoalE2014',\n",
    "       'CoalPrice2010', 'CoalPrice2011', 'CoalPrice2012', 'CoalPrice2013',\n",
    "       'CoalPrice2014',  'ElecE2010', 'ElecE2011', 'ElecE2012', 'ElecE2013',\n",
    "       'ElecE2014', 'ElecPrice2010', 'ElecPrice2011', 'ElecPrice2012',\n",
    "       'ElecPrice2013', 'ElecPrice2014',  'GeoP2010',\n",
    "       'GeoP2011', 'GeoP2012', 'GeoP2013', 'GeoP2014', \n",
    "       'HydroP2010', 'HydroP2011', 'HydroP2012', 'HydroP2013',\n",
    "       'HydroP2014',  'NatGasE2010', 'NatGasE2011',\n",
    "       'NatGasE2012', 'NatGasE2013', 'NatGasE2014', 'NatGasPrice2010',\n",
    "       'NatGasPrice2011', 'NatGasPrice2012', 'NatGasPrice2013',\n",
    "       'NatGasPrice2014', 'LPGE2010', 'LPGE2011', 'LPGE2012', 'LPGE2013',\n",
    "       'LPGE2014', 'LPGPrice2010', 'LPGPrice2011', 'LPGPrice2012',\n",
    "       'LPGPrice2013', 'LPGPrice2014','TotalC2010', 'TotalC2011',\n",
    "       'TotalC2012', 'TotalC2013', 'BiomassC2010',\n",
    "       'BiomassC2011', 'BiomassC2012', 'BiomassC2013',\n",
    "       'CoalC2010', 'CoalC2011', 'CoalC2012', 'CoalC2013',\n",
    "       'ElecC2010', 'ElecC2011', 'ElecC2012', 'ElecC2013', \n",
    "       'FossFuelC2010', 'FossFuelC2011', 'FossFuelC2012', 'FossFuelC2013',\n",
    "        'GeoC2010', 'GeoC2011', 'GeoC2012', 'GeoC2013',\n",
    "       'HydroC2010', 'HydroC2011', 'HydroC2012', 'HydroC2013',\n",
    "        'NatGasC2010', 'NatGasC2011', 'NatGasC2012',\n",
    "       'NatGasC2013',  'LPGC2010', 'LPGC2011', 'LPGC2012',\n",
    "       'LPGC2013',  'CENSUS2010POP', 'POPESTIMATE2010',\n",
    "       'POPESTIMATE2011', 'POPESTIMATE2012', 'POPESTIMATE2013',\n",
    "        'RBIRTH2011', 'RBIRTH2012', 'RBIRTH2013',\n",
    "       'RDEATH2011', 'RDEATH2012', 'RDEATH2013',\n",
    "        'RNATURALINC2011', 'RNATURALINC2012',\n",
    "       'RNATURALINC2013',  'RINTERNATIONALMIG2011',\n",
    "       'RINTERNATIONALMIG2012', 'RINTERNATIONALMIG2013',\n",
    "       'RDOMESTICMIG2011', 'RDOMESTICMIG2012',\n",
    "       'RDOMESTICMIG2013',  'RNETMIG2011',\n",
    "       'RNETMIG2012', 'RNETMIG2013'], axis =1, inplace =True)"
   ]
  },
  {
   "cell_type": "code",
   "execution_count": 14,
   "metadata": {
    "collapsed": false
   },
   "outputs": [
    {
     "data": {
      "text/plain": [
       "array(['StateCodes', 'Division', 'TotalC2014', 'BiomassC2014', 'CoalC2014',\n",
       "       'ElecC2014', 'FossFuelC2014', 'GeoC2014', 'HydroC2014',\n",
       "       'NatGasC2014', 'LPGC2014', 'POPESTIMATE2014', 'RBIRTH2014',\n",
       "       'RDEATH2014', 'RNATURALINC2014', 'RINTERNATIONALMIG2014',\n",
       "       'RDOMESTICMIG2014', 'RNETMIG2014'], dtype=object)"
      ]
     },
     "execution_count": 14,
     "metadata": {},
     "output_type": "execute_result"
    }
   ],
   "source": [
    "df.columns.values"
   ]
  },
  {
   "cell_type": "markdown",
   "metadata": {},
   "source": [
    "Created dummy variables for Division\n",
    "\n",
    "1 = New England\n",
    "\n",
    "2 = Middle Atlantic\n",
    "\n",
    "3 = East North Central\n",
    "\n",
    "4 = West North Central\n",
    "\n",
    "5 = South Atlantic\n",
    "\n",
    "6 = East South Central\n",
    "\n",
    "7 = West South Central \n",
    "\n",
    "8 = Mountain\n",
    "\n",
    "9 = Pacific"
   ]
  },
  {
   "cell_type": "code",
   "execution_count": 15,
   "metadata": {
    "collapsed": true
   },
   "outputs": [],
   "source": [
    "\n",
    "df = df.join(pd.get_dummies(df['Division']))\n",
    "df.drop(['Division'], axis =1, inplace =True)"
   ]
  },
  {
   "cell_type": "markdown",
   "metadata": {},
   "source": [
    "Created a boolean variable for net migration rate 2014"
   ]
  },
  {
   "cell_type": "code",
   "execution_count": 16,
   "metadata": {
    "collapsed": false
   },
   "outputs": [
    {
     "data": {
      "text/plain": [
       "array(['StateCodes', 'TotalC2014', 'BiomassC2014', 'CoalC2014',\n",
       "       'ElecC2014', 'FossFuelC2014', 'GeoC2014', 'HydroC2014',\n",
       "       'NatGasC2014', 'LPGC2014', 'POPESTIMATE2014', 'RBIRTH2014',\n",
       "       'RDEATH2014', 'RNATURALINC2014', 'RINTERNATIONALMIG2014',\n",
       "       'RDOMESTICMIG2014', 'RNETMIG2014', 1.0, 2.0, 3.0, 4.0, 5.0, 6.0,\n",
       "       7.0, 8.0, 9.0], dtype=object)"
      ]
     },
     "execution_count": 16,
     "metadata": {},
     "output_type": "execute_result"
    }
   ],
   "source": [
    "df.columns.values\n"
   ]
  },
  {
   "cell_type": "code",
   "execution_count": 18,
   "metadata": {
    "collapsed": true
   },
   "outputs": [],
   "source": [
    "df['PopulationIncreased2014'] = df['RNETMIG2014'] > 0.0"
   ]
  },
  {
   "cell_type": "code",
   "execution_count": 19,
   "metadata": {
    "collapsed": false
   },
   "outputs": [],
   "source": [
    "feature_cols = ['TotalC2014', 'BiomassC2014', 'CoalC2014',\n",
    "       'ElecC2014', 'FossFuelC2014', 'GeoC2014', 'HydroC2014',\n",
    "       'NatGasC2014', 'LPGC2014', 'POPESTIMATE2014', 'RBIRTH2014',\n",
    "       'RDEATH2014', 'RNATURALINC2014',1.0, 2.0, 3.0, 4.0, 5.0, 6.0,\n",
    "       7.0, 8.0, 9.0,]\n",
    "X = df[feature_cols]\n",
    "y = df['PopulationIncreased2014']"
   ]
  },
  {
   "cell_type": "markdown",
   "metadata": {},
   "source": [
    "Decided to use Random forest modeling after logistic regression turned out to not suit the data"
   ]
  },
  {
   "cell_type": "code",
   "execution_count": 20,
   "metadata": {
    "collapsed": false
   },
   "outputs": [
    {
     "data": {
      "text/plain": [
       "RandomForestClassifier(bootstrap=True, class_weight=None, criterion='gini',\n",
       "            max_depth=None, max_features='auto', max_leaf_nodes=None,\n",
       "            min_impurity_split=1e-07, min_samples_leaf=1,\n",
       "            min_samples_split=2, min_weight_fraction_leaf=0.0,\n",
       "            n_estimators=20, n_jobs=1, oob_score=False, random_state=None,\n",
       "            verbose=0, warm_start=False)"
      ]
     },
     "execution_count": 20,
     "metadata": {},
     "output_type": "execute_result"
    }
   ],
   "source": [
    "from sklearn.ensemble import RandomForestClassifier\n",
    "\n",
    "model = RandomForestClassifier(n_estimators = 20)\n",
    "    \n",
    "model.fit(X, y)"
   ]
  },
  {
   "cell_type": "code",
   "execution_count": 21,
   "metadata": {
    "collapsed": false
   },
   "outputs": [
    {
     "data": {
      "text/html": [
       "<div>\n",
       "<table border=\"1\" class=\"dataframe\">\n",
       "  <thead>\n",
       "    <tr style=\"text-align: right;\">\n",
       "      <th></th>\n",
       "      <th>Features</th>\n",
       "      <th>Importance Score</th>\n",
       "    </tr>\n",
       "  </thead>\n",
       "  <tbody>\n",
       "    <tr>\n",
       "      <th>9</th>\n",
       "      <td>POPESTIMATE2014</td>\n",
       "      <td>0.120244</td>\n",
       "    </tr>\n",
       "    <tr>\n",
       "      <th>7</th>\n",
       "      <td>NatGasC2014</td>\n",
       "      <td>0.110468</td>\n",
       "    </tr>\n",
       "    <tr>\n",
       "      <th>0</th>\n",
       "      <td>TotalC2014</td>\n",
       "      <td>0.095515</td>\n",
       "    </tr>\n",
       "    <tr>\n",
       "      <th>4</th>\n",
       "      <td>FossFuelC2014</td>\n",
       "      <td>0.077709</td>\n",
       "    </tr>\n",
       "    <tr>\n",
       "      <th>1</th>\n",
       "      <td>BiomassC2014</td>\n",
       "      <td>0.074473</td>\n",
       "    </tr>\n",
       "    <tr>\n",
       "      <th>10</th>\n",
       "      <td>RBIRTH2014</td>\n",
       "      <td>0.070606</td>\n",
       "    </tr>\n",
       "    <tr>\n",
       "      <th>5</th>\n",
       "      <td>GeoC2014</td>\n",
       "      <td>0.068835</td>\n",
       "    </tr>\n",
       "    <tr>\n",
       "      <th>6</th>\n",
       "      <td>HydroC2014</td>\n",
       "      <td>0.065055</td>\n",
       "    </tr>\n",
       "    <tr>\n",
       "      <th>3</th>\n",
       "      <td>ElecC2014</td>\n",
       "      <td>0.053125</td>\n",
       "    </tr>\n",
       "    <tr>\n",
       "      <th>11</th>\n",
       "      <td>RDEATH2014</td>\n",
       "      <td>0.052038</td>\n",
       "    </tr>\n",
       "    <tr>\n",
       "      <th>12</th>\n",
       "      <td>RNATURALINC2014</td>\n",
       "      <td>0.041401</td>\n",
       "    </tr>\n",
       "    <tr>\n",
       "      <th>8</th>\n",
       "      <td>LPGC2014</td>\n",
       "      <td>0.038983</td>\n",
       "    </tr>\n",
       "    <tr>\n",
       "      <th>2</th>\n",
       "      <td>CoalC2014</td>\n",
       "      <td>0.038968</td>\n",
       "    </tr>\n",
       "    <tr>\n",
       "      <th>14</th>\n",
       "      <td>2</td>\n",
       "      <td>0.036507</td>\n",
       "    </tr>\n",
       "    <tr>\n",
       "      <th>15</th>\n",
       "      <td>3</td>\n",
       "      <td>0.036060</td>\n",
       "    </tr>\n",
       "    <tr>\n",
       "      <th>17</th>\n",
       "      <td>5</td>\n",
       "      <td>0.007455</td>\n",
       "    </tr>\n",
       "    <tr>\n",
       "      <th>13</th>\n",
       "      <td>1</td>\n",
       "      <td>0.004421</td>\n",
       "    </tr>\n",
       "    <tr>\n",
       "      <th>16</th>\n",
       "      <td>4</td>\n",
       "      <td>0.003702</td>\n",
       "    </tr>\n",
       "    <tr>\n",
       "      <th>21</th>\n",
       "      <td>9</td>\n",
       "      <td>0.003253</td>\n",
       "    </tr>\n",
       "    <tr>\n",
       "      <th>18</th>\n",
       "      <td>6</td>\n",
       "      <td>0.001182</td>\n",
       "    </tr>\n",
       "    <tr>\n",
       "      <th>19</th>\n",
       "      <td>7</td>\n",
       "      <td>0.000000</td>\n",
       "    </tr>\n",
       "    <tr>\n",
       "      <th>20</th>\n",
       "      <td>8</td>\n",
       "      <td>0.000000</td>\n",
       "    </tr>\n",
       "  </tbody>\n",
       "</table>\n",
       "</div>"
      ],
      "text/plain": [
       "           Features  Importance Score\n",
       "9   POPESTIMATE2014          0.120244\n",
       "7       NatGasC2014          0.110468\n",
       "0        TotalC2014          0.095515\n",
       "4     FossFuelC2014          0.077709\n",
       "1      BiomassC2014          0.074473\n",
       "10       RBIRTH2014          0.070606\n",
       "5          GeoC2014          0.068835\n",
       "6        HydroC2014          0.065055\n",
       "3         ElecC2014          0.053125\n",
       "11       RDEATH2014          0.052038\n",
       "12  RNATURALINC2014          0.041401\n",
       "8          LPGC2014          0.038983\n",
       "2         CoalC2014          0.038968\n",
       "14                2          0.036507\n",
       "15                3          0.036060\n",
       "17                5          0.007455\n",
       "13                1          0.004421\n",
       "16                4          0.003702\n",
       "21                9          0.003253\n",
       "18                6          0.001182\n",
       "19                7          0.000000\n",
       "20                8          0.000000"
      ]
     },
     "execution_count": 21,
     "metadata": {},
     "output_type": "execute_result"
    }
   ],
   "source": [
    "features = X.columns\n",
    "feature_importances = model.feature_importances_\n",
    "\n",
    "features_df = pd.DataFrame({'Features': features, 'Importance Score': feature_importances})\n",
    "features_df.sort_values('Importance Score', inplace=True, ascending=False)\n",
    "\n",
    "features_df"
   ]
  },
  {
   "cell_type": "markdown",
   "metadata": {},
   "source": [
    "Found the most important features, now to cross validate the forest"
   ]
  },
  {
   "cell_type": "code",
   "execution_count": 23,
   "metadata": {
    "collapsed": false
   },
   "outputs": [
    {
     "name": "stdout",
     "output_type": "stream",
     "text": [
      "CV Accuracy [ 0.66666667  0.64705882  0.6875    ], Average Accuracy 0.667075163399\n",
      "n trees: 1, CV accuracy [ 0.72222222  0.58823529  0.6875    ], Average accuracy 0.66598583878\n",
      "n trees: 11, CV accuracy [ 0.61111111  0.58823529  0.5       ], Average accuracy 0.566448801743\n",
      "n trees: 21, CV accuracy [ 0.66666667  0.58823529  0.6875    ], Average accuracy 0.647467320261\n",
      "n trees: 31, CV accuracy [ 0.66666667  0.70588235  0.6875    ], Average accuracy 0.686683006536\n",
      "n trees: 41, CV accuracy [ 0.66666667  0.58823529  0.6875    ], Average accuracy 0.647467320261\n",
      "n trees: 51, CV accuracy [ 0.66666667  0.58823529  0.75      ], Average accuracy 0.668300653595\n",
      "n trees: 61, CV accuracy [ 0.66666667  0.64705882  0.6875    ], Average accuracy 0.667075163399\n",
      "n trees: 71, CV accuracy [ 0.66666667  0.64705882  0.6875    ], Average accuracy 0.667075163399\n",
      "n trees: 81, CV accuracy [ 0.72222222  0.58823529  0.6875    ], Average accuracy 0.66598583878\n",
      "n trees: 91, CV accuracy [ 0.66666667  0.64705882  0.6875    ], Average accuracy 0.667075163399\n"
     ]
    }
   ],
   "source": [
    "from sklearn.model_selection import cross_val_score\n",
    "scores = cross_val_score(model, X, y, scoring='accuracy')\n",
    "print('CV Accuracy {}, Average Accuracy {}'.format(scores, scores.mean()))\n",
    "\n",
    "for n_trees in range(1, 100, 10):\n",
    "    model = RandomForestClassifier(n_estimators = n_trees)\n",
    "    scores = cross_val_score(model, X, y, scoring='accuracy')\n",
    "    print('n trees: {}, CV accuracy {}, Average accuracy {}'.format(n_trees, scores, scores.mean()))"
   ]
  },
  {
   "cell_type": "code",
   "execution_count": 24,
   "metadata": {
    "collapsed": false
   },
   "outputs": [
    {
     "data": {
      "text/plain": [
       "<matplotlib.axes._subplots.AxesSubplot at 0x11abfbb50>"
      ]
     },
     "execution_count": 24,
     "metadata": {},
     "output_type": "execute_result"
    },
    {
     "data": {
      "image/png": "[encoded data removed]",
      "text/plain": [
       "<matplotlib.figure.Figure at 0x11ab62810>"
      ]
     },
     "metadata": {},
     "output_type": "display_data"
    }
   ],
   "source": [
    "features_df.plot.bar()"
   ]
  },
  {
   "cell_type": "markdown",
   "metadata": {},
   "source": [
    "## Methods\n",
    "After cleaning the dataset, various features were plotted to observe their distribution.\n",
    "It was decided to focus on energy consumption and population changes in a single year across divisions.\n",
    "The divisions were one-hot encoded, while a boolean variable for the netMigration rate was created.\n",
    "Logistic regression was attempted and then discarded after perplexing results and identification of multiples errors\n",
    "Random forest was generated for the model, the various features were scored and then crossvalidated."
   ]
  },
  {
   "cell_type": "markdown",
   "metadata": {},
   "source": [
    "## Results\n",
    "After running the random forest, which hit 70.7% accuracy with 51 trees, it was found that none of the features present in the model had particularly high importance scores, but the Rate of Birth, Oil Consumption and Total Energy Consumption scores were the most powerful predictors. Interestingly, the East North Central (3) division (15 on the table) had a much higher importance score compared to the rest of the divisions, which all fell below the population and energy features. "
   ]
  },
  {
   "cell_type": "markdown",
   "metadata": {},
   "source": [
    "## Discussion \n",
    "First steps would be increasing the workable data, possibly by breaking down each state into multiple rows for each year.\n",
    "Check how GDP factors influence the migration rate.\n",
    "Initial plan was regression based, more complex, fell apart after several mistakes were corrected.\n"
   ]
  },
  {
   "cell_type": "code",
   "execution_count": null,
   "metadata": {
    "collapsed": true
   },
   "outputs": [],
   "source": []
  },
  {
   "cell_type": "code",
   "execution_count": null,
   "metadata": {
    "collapsed": true
   },
   "outputs": [],
   "source": []
  },
  {
   "cell_type": "code",
   "execution_count": null,
   "metadata": {
    "collapsed": true
   },
   "outputs": [],
   "source": []
  }
 ],
 "metadata": {
  "anaconda-cloud": {},
  "kernelspec": {
   "display_name": "Python [conda root]",
   "language": "python",
   "name": "conda-root-py"
  },
  "language_info": {
   "codemirror_mode": {
    "name": "ipython",
    "version": 2
   },
   "file_extension": ".py",
   "mimetype": "text/x-python",
   "name": "python",
   "nbconvert_exporter": "python",
   "pygments_lexer": "ipython2",
   "version": "2.7.12"
  }
 },
 "nbformat": 4,
 "nbformat_minor": 1
}
